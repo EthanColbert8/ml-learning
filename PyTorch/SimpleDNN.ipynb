{
 "cells": [
  {
   "cell_type": "markdown",
   "id": "0b3625de-f2b8-4623-9a3a-8cb0630588fc",
   "metadata": {},
   "source": [
    "# A PyTorch Neural Network\n",
    "\n",
    "We're building a Neural Net to reconstruct top quarks! Here are the imports."
   ]
  },
  {
   "cell_type": "code",
   "execution_count": 1,
   "id": "c7ebafb6-9095-4380-a736-8a9ac2333d3e",
   "metadata": {},
   "outputs": [],
   "source": [
    "import os\n",
    "# import pickle\n",
    "from itertools import cycle\n",
    "import numpy as np\n",
    "import vector\n",
    "import torch\n",
    "from matplotlib import pyplot as plt"
   ]
  },
  {
   "cell_type": "markdown",
   "id": "da8a8a9f-7bfa-4f11-98ea-fe81dc9c8787",
   "metadata": {},
   "source": [
    "Creating some globals to do configuration."
   ]
  },
  {
   "cell_type": "code",
   "execution_count": 2,
   "id": "d0536868-996d-4246-8b4c-4c210e0cb7cd",
   "metadata": {},
   "outputs": [],
   "source": [
    "save_folder = \"/depot/cms/users/colberte/ml-learning/PyTorch/SavedModels\"\n",
    "os.makedirs(save_folder, exist_ok=True)\n",
    "\n",
    "batch_size = 2048\n",
    "valid_batch_size = 16384\n",
    "epochs = 2\n",
    "learning_rate = 1.0e-4\n",
    "grad_clip_value = 80.0"
   ]
  },
  {
   "cell_type": "code",
   "execution_count": 3,
   "id": "171f5fc6-b367-4723-8f75-691c4906e73c",
   "metadata": {},
   "outputs": [
    {
     "name": "stdout",
     "output_type": "stream",
     "text": [
      "cuda:0\n"
     ]
    }
   ],
   "source": [
    "device = torch.device(\"cuda:0\" if torch.cuda.is_available() else \"cpu\")\n",
    "print(device)"
   ]
  },
  {
   "cell_type": "code",
   "execution_count": 4,
   "id": "cffe6c19-a67e-47b1-a514-5bdedaa957fb",
   "metadata": {},
   "outputs": [],
   "source": [
    "model_params = {\n",
    "    \"n_features\": 52,\n",
    "    \"n_layers\": 5,\n",
    "    \"d_layers\": 256,\n",
    "    \"d_output\": 8,\n",
    "    \"dropout\": 0.1,\n",
    "}"
   ]
  },
  {
   "cell_type": "markdown",
   "id": "c926214e-5373-4c26-bc86-eb11551a7d65",
   "metadata": {},
   "source": [
    "### Setting up Datasets\n",
    "\n",
    "Here we load the datasets."
   ]
  },
  {
   "cell_type": "code",
   "execution_count": 10,
   "id": "200738cc-07d9-4f40-899f-7e22b113e184",
   "metadata": {},
   "outputs": [],
   "source": [
    "train_dataset = torch.load(\"data/ttbar_dilepton_2017UL_notau_train.pt\", weights_only=False)\n",
    "valid_dataset = torch.load(\"data/ttbar_dilepton_2017UL_notau_validation.pt\", weights_only=False)"
   ]
  },
  {
   "cell_type": "code",
   "execution_count": 11,
   "id": "d91925f0-8d03-4fb1-9672-3d38b571abd1",
   "metadata": {},
   "outputs": [],
   "source": [
    "if torch.cuda.is_available():\n",
    "    train_dataloader = torch.utils.data.DataLoader(train_dataset, batch_size=batch_size, shuffle=True, num_workers=1, pin_memory=True, drop_last=True)\n",
    "    valid_dataloader = torch.utils.data.DataLoader(valid_dataset, batch_size=valid_batch_size, shuffle=True, num_workers=1, pin_memory=True, drop_last=True)\n",
    "else:\n",
    "    train_dataloader = torch.utils.data.DataLoader(train_dataset, batch_size=batch_size, shuffle=True, drop_last=True)\n",
    "    valid_dataloader = torch.utils.data.DataLoader(valid_dataset, batch_size=valid_batch_size, shuffle=True, drop_last=True)"
   ]
  },
  {
   "cell_type": "code",
   "execution_count": 12,
   "id": "f074867d-cefe-42da-8ff6-0e361c59e8ca",
   "metadata": {},
   "outputs": [],
   "source": [
    "valid_dataloader_iterator = cycle(valid_dataloader)"
   ]
  },
  {
   "cell_type": "markdown",
   "id": "243257c2-3362-45d8-a29b-cf8654820221",
   "metadata": {},
   "source": [
    "Just for demo purposes, **DON'T RUN THIS!!**"
   ]
  },
  {
   "cell_type": "code",
   "execution_count": 15,
   "id": "707ed54d-c935-40c0-9272-8c6320513510",
   "metadata": {},
   "outputs": [],
   "source": [
    "train_dataset_real = torch.utils.data.TensorDataset(*(train_dataset[:1000000]))\n",
    "train_dataloader = torch.utils.data.DataLoader(train_dataset_real, batch_size=batch_size, shuffle=True, num_workers=1, pin_memory=True, drop_last=True)"
   ]
  },
  {
   "cell_type": "markdown",
   "id": "08826c54-98a3-4f50-b051-384361968330",
   "metadata": {},
   "source": [
    "### Defining the Model\n",
    "\n",
    "Here's one way to define a Multi-Layer Perceptron (MLP) model in PyTorch."
   ]
  },
  {
   "cell_type": "code",
   "execution_count": 7,
   "id": "fe8fe39f-84ab-446d-858c-704b8ca2b156",
   "metadata": {},
   "outputs": [],
   "source": [
    "class MLPModel(torch.nn.Module):\n",
    "    def __init__(self, n_features, n_layers, d_layers, d_output, dropout=0.0):\n",
    "        super().__init__() # IMPORTANT: This allows the `torch.nn.Module` to initialize and prepare to register our model blocks\n",
    "\n",
    "        # This builds up the layers we want in our network\n",
    "        layers = [torch.nn.Linear(n_features, d_layers), torch.nn.ReLU()]\n",
    "        for idx in range(n_layers-1):\n",
    "            layers.append(torch.nn.Linear(d_layers, d_layers))\n",
    "            layers.append(torch.nn.ReLU())\n",
    "            if (dropout > 0.0):\n",
    "                layers.append(torch.nn.Dropout(dropout))\n",
    "        layers.append(torch.nn.Linear(d_layers, d_output))\n",
    "\n",
    "        self.stack = torch.nn.Sequential(*layers) # Registers our layers as a single feedforward block\n",
    "\n",
    "    def forward(self, inputs):\n",
    "        return self.stack(inputs)"
   ]
  },
  {
   "cell_type": "code",
   "execution_count": 18,
   "id": "0f59aad0-ef07-4d9c-ac30-4889251c1a06",
   "metadata": {},
   "outputs": [],
   "source": [
    "model = MLPModel(**model_params)\n",
    "model = model.to(device)"
   ]
  },
  {
   "cell_type": "code",
   "execution_count": 19,
   "id": "5565f81c-4190-498f-bdf5-0098227f6add",
   "metadata": {},
   "outputs": [
    {
     "name": "stdout",
     "output_type": "stream",
     "text": [
      "Trainable parameters: 278792\n"
     ]
    }
   ],
   "source": [
    "print(\"Trainable parameters:\", sum(p.numel() for p in model.parameters() if p.requires_grad))"
   ]
  },
  {
   "cell_type": "markdown",
   "id": "aeb36871-ee8c-4158-8e6a-16af11c43a02",
   "metadata": {},
   "source": [
    "### Setting up Training\n",
    "\n",
    "Here we define a **loss function** and **optimization algorithm** that we'll use to train our model. These are also going to come from the PyTorch library."
   ]
  },
  {
   "cell_type": "code",
   "execution_count": 20,
   "id": "7dfa9a1b-a51d-427e-9b22-9de24dc9808a",
   "metadata": {},
   "outputs": [],
   "source": [
    "optimizer = torch.optim.Adam(model.parameters(), lr=learning_rate, weight_decay=0.0)"
   ]
  },
  {
   "cell_type": "code",
   "execution_count": 21,
   "id": "9da2cf51-f833-4a5b-a39d-ce5d21066dbc",
   "metadata": {},
   "outputs": [],
   "source": [
    "loss_function = torch.nn.L1Loss(reduction=\"mean\")"
   ]
  },
  {
   "cell_type": "markdown",
   "id": "d31bf098-62c2-4c7d-9045-5311f1d8877d",
   "metadata": {},
   "source": [
    "### Training Loop"
   ]
  },
  {
   "cell_type": "code",
   "execution_count": 22,
   "id": "dc78df8c-ee32-4786-8919-a2f25cc05a11",
   "metadata": {},
   "outputs": [],
   "source": [
    "train_loss = []\n",
    "valid_loss = []\n",
    "# min_valid_loss = float(\"inf\")\n",
    "# min_loss_epoch = 0"
   ]
  },
  {
   "cell_type": "code",
   "execution_count": 23,
   "id": "d9689e1c-b611-4d3a-96e8-e112bba2fa61",
   "metadata": {},
   "outputs": [
    {
     "name": "stdout",
     "output_type": "stream",
     "text": [
      "Starting epoch 1.\n",
      "Starting epoch 2.\n",
      "Finished.\n"
     ]
    }
   ],
   "source": [
    "for epoch in range(1, epochs+1):\n",
    "    print(f\"Starting epoch {epoch}.\")\n",
    "    model.train()\n",
    "    for batch, (jets, leptons, met, pad_mask, target) in enumerate(train_dataloader):\n",
    "        optimizer.zero_grad()\n",
    "\n",
    "        jets = jets.reshape([-1, 40])\n",
    "        leptons = leptons.reshape([-1, 10])\n",
    "        met = met.reshape([-1, 2])\n",
    "        #pad_mask = pad_mask.to(device)\n",
    "        inputs = torch.concat([jets, leptons, met], dim=-1).to(device)\n",
    "        \n",
    "        target = target.to(device)\n",
    "\n",
    "        pred = model(inputs)\n",
    "\n",
    "        loss = loss_function(pred, target)\n",
    "\n",
    "        loss.backward()\n",
    "        torch.nn.utils.clip_grad_norm_(model.parameters(), grad_clip_value) # gradient clipping\n",
    "        optimizer.step()\n",
    "\n",
    "        if (batch % 10 == 0):\n",
    "            train_loss_number = loss.detach().to(\"cpu\").item()\n",
    "            train_loss.append(train_loss_number)\n",
    "\n",
    "    model.eval()\n",
    "    with torch.no_grad():\n",
    "        jets_valid, leptons_valid, met_valid, pad_mask_valid, target_valid = next(valid_dataloader_iterator)\n",
    "        jets_valid = jets_valid.reshape([-1, 40])\n",
    "        leptons_valid = leptons_valid.reshape([-1, 10])\n",
    "        met_valid = met_valid.reshape([-1, 2])\n",
    "        #pad_mask_valid = pad_mask_valid.to(device)\n",
    "        inputs_valid = torch.concat([jets_valid, leptons_valid, met_valid], dim=-1).to(device)\n",
    "        \n",
    "        target_valid = target_valid.to(device)\n",
    "\n",
    "        pred_valid = model(inputs_valid)\n",
    "\n",
    "        loss_valid = loss_function(pred_valid, target_valid)\n",
    "\n",
    "        valid_loss_number = loss_valid.detach().to('cpu').item()\n",
    "        valid_loss.append(valid_loss_number)\n",
    "\n",
    "        # if (valid_loss_number <= min_valid_loss):\n",
    "        #     min_valid_loss = valid_loss_number\n",
    "        #     min_loss_epoch = epoch\n",
    "        #     # Save model with lowest validation loss\n",
    "        #     torch.jit.script(model).save(save_folder+\"/best_mlp.pt\")\n",
    "\n",
    "print(\"Finished.\")"
   ]
  },
  {
   "cell_type": "code",
   "execution_count": 24,
   "id": "6d7463f7-7d62-4d2a-bb02-d50c3b965f6b",
   "metadata": {},
   "outputs": [],
   "source": [
    "torch.jit.script(model).save(save_folder+\"/final_mlp.pt\")"
   ]
  },
  {
   "cell_type": "markdown",
   "id": "3c8f9de5-291f-40b7-96d8-d7a72b5575de",
   "metadata": {},
   "source": [
    "### Evaluating the Results\n",
    "\n",
    "We can look at how training proceeded by plotting the loss."
   ]
  },
  {
   "cell_type": "code",
   "execution_count": 25,
   "id": "23b3caff-2f5b-4229-ac48-01dcb0b902ea",
   "metadata": {},
   "outputs": [
    {
     "data": {
      "image/png": "[encoded data removed]",
      "text/plain": [
       "<Figure size 640x480 with 1 Axes>"
      ]
     },
     "metadata": {},
     "output_type": "display_data"
    }
   ],
   "source": [
    "epochs_list = np.arange(1, epochs+1)\n",
    "steps_list = np.linspace(0, epochs, len(train_loss))\n",
    "\n",
    "fig, ax = plt.subplots()\n",
    "\n",
    "ax.set_xlim(0, epochs)\n",
    "#ax.set_ylim(bottom=0)\n",
    "\n",
    "ax.plot(steps_list, train_loss, label=\"Training\")\n",
    "ax.plot(epochs_list, valid_loss, label=\"Validation\")\n",
    "\n",
    "ax.legend()\n",
    "\n",
    "plt.show()\n",
    "plt.close()"
   ]
  },
  {
   "cell_type": "markdown",
   "id": "cb2c0699-fa89-4c87-bcae-04acc0be0c4c",
   "metadata": {},
   "source": [
    "That's some pretty good training! Now, try to actually plot the results! Use the next batch of validation data to compare our saved model's predictions to the true values."
   ]
  },
  {
   "cell_type": "code",
   "execution_count": null,
   "id": "e450d2ef-2796-4e95-8c7a-2b60fc7295f4",
   "metadata": {},
   "outputs": [],
   "source": []
  },
  {
   "cell_type": "markdown",
   "id": "d6879f9f-4ae6-4721-a6a4-c4ce066f9df9",
   "metadata": {},
   "source": [
    "### Wrapping Up\n",
    "\n",
    "Hope this was fun, y'all should play with it and explore!"
   ]
  }
 ],
 "metadata": {
  "kernelspec": {
   "display_name": "Python [conda env:bumblebee]",
   "language": "python",
   "name": "conda-env-bumblebee-py"
  },
  "language_info": {
   "codemirror_mode": {
    "name": "ipython",
    "version": 3
   },
   "file_extension": ".py",
   "mimetype": "text/x-python",
   "name": "python",
   "nbconvert_exporter": "python",
   "pygments_lexer": "ipython3",
   "version": "3.12.9"
  }
 },
 "nbformat": 4,
 "nbformat_minor": 5
}
