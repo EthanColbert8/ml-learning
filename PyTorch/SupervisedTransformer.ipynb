{
 "cells": [
  {
   "cell_type": "markdown",
   "id": "981f61a2-6920-4073-83e3-33a19d4d208c",
   "metadata": {},
   "source": [
    "# A Supervised Transformer with PyTorch\n",
    "\n",
    "Transformers, [first developed in 2017](https://arxiv.org/abs/1706.03762), are the model architecture on which all modern language models, such as ChatGPT, are based (of course, there have been significant architectural innovations since the original Transformer, but it still forms the foundation). Transformers rely almost entirely on the Attention mechanism to form an expressive representation of their input, from which many forms of desired output can be extracted. Today, we are going to use a modified Transformer model to predict the momentum of top quarks from their decay products, using data from Monte Carlo simulations of collision events in the CMS detector.\n",
    "\n",
    "The top quark is unique in particle physics, as it is the only quark that decays via the weak nuclear force before hadronizing to form jets. It decays into a $W$ boson and a $b$ quark. The $b$ quark forms a particle jet, while the $W$ boson can decay to light quarks, or to a lepton and (anti)neutrino. All of our simulated events go through the latter sequence.\n",
    "\n",
    "Our model architecture (implemented in `utils/Transformers.py`) is a modified version of the original Transformer. It contains two significant changes with respect to the initial design, both directly motivated by the difference between natural language and particle physics data:\n",
    "- We do _not_ include any kind of positional encoding in the input to the Attention layers. In language modeling, this is inserted to introduce a dependence on the ordering of words in a sentence or paragraph, but particles have no implicit ordering, and we want the order in which we list them to have no meaning to the model. Thus, we remove this element.\n",
    "- When passing \"output\" tokens to the model, the original input is usually included, but progressively \"shifted right\", to force the Attention mechanism to only be aware of \"previous\" tokens in the output. We also remove this mechanism, allowing Attention to operate between the two output tokens. This is because we want the model's predictions for the top quark and antiquark to both depend on each other.\n",
    "\n",
    "\n",
    "Let's get started by importing the various elements we'll need, including our custom `RecoTransformer` class."
   ]
  },
  {
   "cell_type": "code",
   "execution_count": 1,
   "id": "0abcc55d-2b3d-4b6c-b87b-82e662ac5720",
   "metadata": {},
   "outputs": [],
   "source": [
    "import os\n",
    "# import pickle\n",
    "from itertools import cycle\n",
    "import numpy as np\n",
    "import vector\n",
    "import torch\n",
    "from matplotlib import pyplot as plt"
   ]
  },
  {
   "cell_type": "code",
   "execution_count": 2,
   "id": "83d6859a-e85b-47a4-8576-ae25159c2bfe",
   "metadata": {},
   "outputs": [],
   "source": [
    "from utils.Transformers import RecoTransformer"
   ]
  },
  {
   "cell_type": "markdown",
   "id": "0b0df931-ff54-4042-bd9e-7dc48c5ba88f",
   "metadata": {},
   "source": [
    "Next, we'll create some global variables for common settings we'll need throughout the process. You should recognize most of these as general machine-learning things."
   ]
  },
  {
   "cell_type": "code",
   "execution_count": 3,
   "id": "c01941ab-33b2-4901-947f-06c162c8f804",
   "metadata": {},
   "outputs": [],
   "source": [
    "save_folder = \"/depot/cms/users/colberte/ml-learning/PyTorch/SavedModels\"\n",
    "os.makedirs(save_folder, exist_ok=True)\n",
    "\n",
    "batch_size = 2048\n",
    "valid_batch_size = 16384\n",
    "epochs = 2\n",
    "learning_rate = 1.0e-4\n",
    "grad_clip_value = 80.0"
   ]
  },
  {
   "cell_type": "code",
   "execution_count": 4,
   "id": "9579f505-485a-4240-8042-c0b0b6c3b3fa",
   "metadata": {},
   "outputs": [
    {
     "name": "stdout",
     "output_type": "stream",
     "text": [
      "cuda:0\n"
     ]
    }
   ],
   "source": [
    "device = torch.device(\"cuda:0\" if torch.cuda.is_available() else \"cpu\")\n",
    "print(device)"
   ]
  },
  {
   "cell_type": "code",
   "execution_count": 5,
   "id": "212edfc3-1dcf-4817-bbaf-f52864251344",
   "metadata": {},
   "outputs": [],
   "source": [
    "model_params = {\n",
    "    \"num_encoder_layers\": 4,\n",
    "    \"num_decoder_layers\": 4,\n",
    "    \"d_model\": 128,\n",
    "    \"n_heads\": 8,\n",
    "    \"dim_feedforward\": 354,\n",
    "    \"dropout\": 0.09,\n",
    "    \"dim_embeddings\": 378,\n",
    "    \"num_layers_embeddings\": 1,\n",
    "    \"dim_outputs\": 4,\n",
    "}"
   ]
  },
  {
   "cell_type": "markdown",
   "id": "6bad56b4-0790-4754-aa26-50e59cd26b7e",
   "metadata": {},
   "source": [
    "### Setting Up Datasets\n",
    "\n",
    "Now, it's time to load the training and validation data, and set it up to be batched dynamically during training. Notice that I use some extra options (`num_workers=1` and `pin_memory=True`) if we're training on a GPU -- these help speed up the transfer of data from main memory onto the GPU device.\n",
    "\n",
    "Also, we're going to cycle through the validation data in batches as we train. It'd be lots of boring work and extra code to have to keep track of where we're at in the dataset and manually start over when we reach the end. Luckily, a `cycle` from Python's built-in `itertools` library can handle those mechanics for us."
   ]
  },
  {
   "cell_type": "code",
   "execution_count": 6,
   "id": "b258051f-ed8b-4acd-8d10-e31f523c43ac",
   "metadata": {
    "scrolled": true
   },
   "outputs": [],
   "source": [
    "train_dataset = torch.load(\"data/ttbar_dilepton_2017UL_notau_train.pt\", weights_only=False)\n",
    "valid_dataset = torch.load(\"data/ttbar_dilepton_2017UL_notau_validation.pt\", weights_only=False)"
   ]
  },
  {
   "cell_type": "code",
   "execution_count": 7,
   "id": "01920b0e-24d5-48df-89ab-6a9c5edb95bc",
   "metadata": {},
   "outputs": [],
   "source": [
    "if torch.cuda.is_available():\n",
    "    train_dataloader = torch.utils.data.DataLoader(train_dataset, batch_size=batch_size, shuffle=True, num_workers=1, pin_memory=True, drop_last=True)\n",
    "    valid_dataloader = torch.utils.data.DataLoader(valid_dataset, batch_size=valid_batch_size, shuffle=True, num_workers=1, pin_memory=True, drop_last=True)\n",
    "else:\n",
    "    train_dataloader = torch.utils.data.DataLoader(train_dataset, batch_size=batch_size, shuffle=True, drop_last=True)\n",
    "    valid_dataloader = torch.utils.data.DataLoader(valid_dataset, batch_size=valid_batch_size, shuffle=True, drop_last=True)"
   ]
  },
  {
   "cell_type": "code",
   "execution_count": 8,
   "id": "81b40cc3-1165-4b35-a992-70cfa189e308",
   "metadata": {},
   "outputs": [],
   "source": [
    "valid_dataloader_iterator = cycle(valid_dataloader)"
   ]
  },
  {
   "cell_type": "markdown",
   "id": "3bcf5945-c83b-4a2f-a12f-ac0d86f5bdf2",
   "metadata": {},
   "source": [
    "For quick demonstration purposes, I'm shortening the training dataset so the model will train in a few minutes on a GPU slice. If you actually want a good model, you should fully comment out (or delete) this cell.\n",
    "\n",
    "I repeat, for a decent model, **DON'T RUN THIS!!**"
   ]
  },
  {
   "cell_type": "code",
   "execution_count": 9,
   "id": "046ce151-b174-4967-bee4-cc7212bbb12e",
   "metadata": {},
   "outputs": [],
   "source": [
    "train_dataset_real = torch.utils.data.TensorDataset(*(train_dataset[:1000000]))\n",
    "train_dataloader = torch.utils.data.DataLoader(train_dataset_real, batch_size=batch_size, shuffle=True, num_workers=1, pin_memory=True, drop_last=True)"
   ]
  },
  {
   "cell_type": "markdown",
   "id": "5042bd59-5124-4c7d-a591-506d8cbbbe0c",
   "metadata": {},
   "source": [
    "### Instantiating the Model\n",
    "\n",
    "Here we create an instance of the `RecoTransformer` model. We can also inspect how many trainable parameters it has. With the settings we used in `model_params` above, we end up with just shy of 1.7 million trainable parameters. That's quite a few, but actually rather small for a Transformer! Luckily, our training data contains over 6 million collision events, so it should be possible to avoid large overfitting effects."
   ]
  },
  {
   "cell_type": "code",
   "execution_count": 10,
   "id": "c68ba44a-c26c-47e5-86d7-184fddb92d11",
   "metadata": {},
   "outputs": [],
   "source": [
    "model = RecoTransformer(**model_params)\n",
    "model = model.to(device)"
   ]
  },
  {
   "cell_type": "code",
   "execution_count": 11,
   "id": "76e01843-ca39-486a-bfc8-04882d71357a",
   "metadata": {},
   "outputs": [
    {
     "name": "stdout",
     "output_type": "stream",
     "text": [
      "Trainable parameters: 1678266\n"
     ]
    }
   ],
   "source": [
    "print(\"Trainable parameters:\", sum(p.numel() for p in model.parameters() if p.requires_grad))"
   ]
  },
  {
   "cell_type": "markdown",
   "id": "aef85fa6-e759-4421-b5a6-4bd9040dcbef",
   "metadata": {},
   "source": [
    "### Setting up Training\n",
    "\n",
    "Here we set up an optimizer (I'm partial to the _Adam_ optimization algorithm) and a loss function. I just use a basic Mean Absolute Error loss (implemented in PyTorch as `L1Loss`), but this is actually a great spot to play around! You might be surprised at how sensitive your trained model is to the specific choice of loss function."
   ]
  },
  {
   "cell_type": "code",
   "execution_count": 12,
   "id": "a7e21ec9-8d5b-4a66-9983-b8f078addc92",
   "metadata": {},
   "outputs": [],
   "source": [
    "optimizer = torch.optim.Adam(model.parameters(), lr=learning_rate, weight_decay=0.0)"
   ]
  },
  {
   "cell_type": "code",
   "execution_count": 13,
   "id": "8de8d5ca-033e-4885-ab2a-70ca7dc82643",
   "metadata": {},
   "outputs": [],
   "source": [
    "loss_function = torch.nn.L1Loss(reduction=\"mean\")"
   ]
  },
  {
   "cell_type": "markdown",
   "id": "ec45436d-06fd-405d-b9bf-dfc2a8a8eb85",
   "metadata": {},
   "source": [
    "### Train!\n",
    "\n",
    "Here's where the magic happens -- the training loop! Notice that at the end of every epoch, we take a moment to evaluate the performance of the model on data with which it _wasn't_ trained. This is an important principle in ML: ensure that your models generalize to data they haven't seen before. This \"validation\" step can also be used to implement _early stopping_, where you'll end your model's training once you start to see it overfit (a variation on this technique is commented out in the code below)."
   ]
  },
  {
   "cell_type": "code",
   "execution_count": 14,
   "id": "cee1c4db-9428-4c4f-aad3-b95b72c12c76",
   "metadata": {},
   "outputs": [],
   "source": [
    "train_loss = []\n",
    "valid_loss = []\n",
    "# min_valid_loss = float(\"inf\")\n",
    "# min_loss_epoch = 0"
   ]
  },
  {
   "cell_type": "code",
   "execution_count": 15,
   "id": "919283f3-4595-48af-9447-5040974333a9",
   "metadata": {},
   "outputs": [
    {
     "name": "stdout",
     "output_type": "stream",
     "text": [
      "Starting epoch 1.\n",
      "Starting epoch 2.\n"
     ]
    }
   ],
   "source": [
    "for epoch in range(1, epochs+1):\n",
    "    print(f\"Starting epoch {epoch}.\")\n",
    "    model.train()\n",
    "    for batch, (jets, leptons, met, pad_mask, target) in enumerate(train_dataloader):\n",
    "        optimizer.zero_grad()\n",
    "\n",
    "        jets = jets.to(device)\n",
    "        leptons = leptons.to(device)\n",
    "        met = met.to(device)\n",
    "        pad_mask = pad_mask.to(device)\n",
    "        #target = target.to(device)\n",
    "        target = target.reshape([-1, 2, 4]).to(device)\n",
    "\n",
    "        # Decoder requires initial \"target\" to attend to\n",
    "        output_template_1 = 1 + torch.zeros([len(target), 1, model_params['d_model']], device=device)\n",
    "        output_template_2 = -1 + torch.zeros([len(target), 1, model_params['d_model']], device=device)\n",
    "        # output_template_1 = torch.zeros([len(target), 1, model_params['d_model']], device=device)\n",
    "        # output_template_2 = 1 + torch.zeros([len(target), 1, model_params['d_model']], device=device)\n",
    "        output_template = torch.cat([output_template_1, output_template_2], dim=1)\n",
    "\n",
    "        pred = model(output_template, jets, leptons, met, pad_mask)\n",
    "\n",
    "        loss = loss_function(pred, target)\n",
    "\n",
    "        loss.backward()\n",
    "        torch.nn.utils.clip_grad_norm_(model.parameters(), grad_clip_value) # gradient clipping\n",
    "        optimizer.step()\n",
    "\n",
    "        if (batch % 10 == 0):\n",
    "            train_loss_number = loss.detach().to(\"cpu\").item()\n",
    "            train_loss.append(train_loss_number)\n",
    "\n",
    "    model.eval()\n",
    "    with torch.no_grad():\n",
    "        jets_valid, leptons_valid, met_valid, pad_mask_valid, target_valid = next(valid_dataloader_iterator)\n",
    "        jets_valid = jets_valid.to(device)\n",
    "        leptons_valid = leptons_valid.to(device)\n",
    "        met_valid = met_valid.to(device)\n",
    "        pad_mask_valid = pad_mask_valid.to(device)\n",
    "        #target_valid = target_valid.to(device)\n",
    "        target_valid = target_valid.reshape([-1, 2, 4]).to(device)\n",
    "\n",
    "        output_template_valid_1 = 1 + torch.zeros([len(target_valid), 1, model_params['d_model']], device=device)\n",
    "        output_template_valid_2 = -1 + torch.zeros([len(target_valid), 1, model_params['d_model']], device=device)\n",
    "        # output_template_valid_1 = torch.zeros([len(target_valid), 1, model_params['d_model']], device=device)\n",
    "        # output_template_valid_2 = 1 + torch.zeros([len(target_valid), 1, model_params['d_model']], device=device)\n",
    "        output_template_valid = torch.cat([output_template_valid_1, output_template_valid_2], dim=1)\n",
    "\n",
    "        pred_valid = model(output_template_valid, jets_valid, leptons_valid, met_valid, pad_mask_valid)\n",
    "\n",
    "        loss_valid = loss_function(pred_valid, target_valid)\n",
    "\n",
    "        valid_loss_number = loss_valid.detach().to('cpu').item()\n",
    "        valid_loss.append(valid_loss_number)\n",
    "\n",
    "        # if (valid_loss_number <= min_valid_loss):\n",
    "        #     min_valid_loss = valid_loss_number\n",
    "        #     min_loss_epoch = epoch\n",
    "        #     # Save model with lowest validation loss\n",
    "        #     torch.jit.script(model).save(save_folder+\"/best_transformer.pt\")\n",
    "\n",
    "print(\"Finished.\")"
   ]
  },
  {
   "cell_type": "code",
   "execution_count": 16,
   "id": "3e48c7ed-f85e-4c22-91d0-254b88d48412",
   "metadata": {},
   "outputs": [],
   "source": [
    "torch.jit.script(model).save(save_folder+\"/final_transformer.pt\")"
   ]
  },
  {
   "cell_type": "markdown",
   "id": "04ac1d37-48f6-4967-b678-b521108c54a6",
   "metadata": {},
   "source": [
    "### Evaluating the Results\n",
    "\n",
    "Let's see how our model did! The first thing we can do is see how training went. Notice that I logged the loss value, on both training and validation data, during the training loop. We can plot this to see that the loss value (hopefully) decreased as the model's training progressed. "
   ]
  },
  {
   "cell_type": "code",
   "execution_count": 17,
   "id": "e808e2c2-6379-4955-a41c-fff0e7f3c3ba",
   "metadata": {},
   "outputs": [
    {
     "data": {
      "image/png": "[encoded data removed]",
      "text/plain": [
       "<Figure size 640x480 with 1 Axes>"
      ]
     },
     "metadata": {},
     "output_type": "display_data"
    }
   ],
   "source": [
    "epochs_list = np.arange(1, epochs+1)\n",
    "steps_list = np.linspace(0, epochs, len(train_loss))\n",
    "\n",
    "fig, ax = plt.subplots()\n",
    "\n",
    "ax.set_xlim(0, epochs)\n",
    "#ax.set_ylim(bottom=0)\n",
    "\n",
    "ax.plot(steps_list, train_loss, label=\"Training\")\n",
    "ax.plot(epochs_list, valid_loss, label=\"Validation\")\n",
    "\n",
    "ax.legend()\n",
    "\n",
    "plt.show()\n",
    "plt.close()"
   ]
  },
  {
   "cell_type": "markdown",
   "id": "9431b491-7b28-4bef-b787-7351e7a30843",
   "metadata": {},
   "source": [
    "We see that the loss did indeed decrease -- our model trained! Now we can actually evaluate how well it does.\n",
    "\n",
    "Plotting residuals (the 2D histograms) will go here."
   ]
  },
  {
   "cell_type": "code",
   "execution_count": null,
   "id": "623de908-7d30-41d8-928f-f5cac7c90b0d",
   "metadata": {},
   "outputs": [],
   "source": []
  },
  {
   "cell_type": "markdown",
   "id": "ab36de9e-235b-4a83-93b6-82be1844f72f",
   "metadata": {},
   "source": [
    "### Wrapping Up\n",
    "\n",
    "I hope this was a useful tutorial for everyone! I'll leave you with a few further explorations to try, which aren't implemented here:\n",
    "1. _Standardize_ the model's inputs and/or outputs. Right now, there are features that have quite different orders of magnitude, and their distributions differ quite a bit. It often helps ML models if you transform their inputs and outputs to quantities that follow a standard normal distribution (check out Scikit-Learn's [`QuantileTransformer`](https://scikit-learn.org/stable/modules/generated/sklearn.preprocessing.QuantileTransformer.html) for this).\n",
    "2. How do we know the best size for all the model's parts to be, or the best batch size, learning rate, etc? I might have made some poor choices for those values when I set this up. To potentially improve the model's performance, do a _hyperparameter scan_, that is, train a variety of models with different values for those settings, and see if you can find where the best ones are. A number of tools exist to help with this; my favorite is [Optuna](https://optuna.org/). "
   ]
  }
 ],
 "metadata": {
  "kernelspec": {
   "display_name": "Python [conda env:bumblebee]",
   "language": "python",
   "name": "conda-env-bumblebee-py"
  },
  "language_info": {
   "codemirror_mode": {
    "name": "ipython",
    "version": 3
   },
   "file_extension": ".py",
   "mimetype": "text/x-python",
   "name": "python",
   "nbconvert_exporter": "python",
   "pygments_lexer": "ipython3",
   "version": "3.12.9"
  }
 },
 "nbformat": 4,
 "nbformat_minor": 5
}
