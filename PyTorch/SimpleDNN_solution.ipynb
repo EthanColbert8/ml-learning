{
 "cells": [
  {
   "cell_type": "markdown",
   "id": "0b3625de-f2b8-4623-9a3a-8cb0630588fc",
   "metadata": {},
   "source": [
    "# A PyTorch Neural Network\n",
    "\n",
    "Today, we'll build a straightforward Deep Neural Network (DNN) using the [PyTorch](https://pytorch.org/) library, and train it to solve a difficult problem in particle physics.\n",
    "\n",
    "### The Problem: Top Quark Reconstruction\n",
    "\n",
    "Top quark-antiquark pairs are _abundantly_ produced at the LHC, and are studied at the experiments there. However, detectors such as the Compact Muon Solenoid (CMS) don't detect top quarks directly. This is because their lifetime is about $10^{-24}$ seconds, meaning they decay long before they would reach the detector's instrumentation. Thus, the detector only \"sees\" the final-state products of the decay chain. Our problem, then, is this: **given the final-state quantities available to us from a detector, what were the momentum and energy of the top quark and antiquark?**\n",
    "\n",
    "The top quark and antiquark always decay through the Weak interaction, (pretty much always) via the process $t \\rightarrow W^+ \\: b$ (and conversely $\\bar{t} \\rightarrow W^- \\: \\bar{b}$). The $b$ and $\\bar{b}$ quarks _hadronize_ after being produced, forming **jets** in detectors. The $W^{\\pm}$ bosons, on the other hand, also decay, either into a pair of quarks (roughly $2/3$ of the time) or into a **lepton** (electron, muon, or tau lepton) and **neutrino** (roughly $1/3$ of the time). This means there are three possible _decay channels_ for a top quark-antiquark pair:\n",
    "- **fully hadronic**: Both $W^{\\pm}$ bosons decay to pairs of quarks, which then hadronize. Thus, the final state contains six jets.\n",
    "- **semileptonic**: One $W^{\\pm}$ boson decays to a pair of quarks, and the other decays to a lepton and neutrino. Thus, the final state contains four jets, one lepton, and one corresponding neutrino.\n",
    "- **dileptonic**: Both $W^{\\pm}$ bosons decay to leptons and neutrinos. Thus, the final state contains two jets, two _opposite-sign_ leptons, and two corresponding neutrinos.\n",
    "\n",
    "The task of reconstructing the top quarks' **four-momentum** (energy and momentum) contains unique challenges in each of the three decay channels. Here, we are focused on reconstructing top quarks that decay via the _dileptonic_ channel, visualized in the diagram below.\n",
    "\n",
    "![Dileptonic $t \\bar{t}$ production and decay in a proton-proton collision.](https://encrypted-tbn0.gstatic.com/images?q=tbn:ANd9GcRdV4O628S0ZiWNghVtmDgxYWCMvaYoy_zIuw&s)\n",
    "\n",
    "Thinking a bit about the reconstruction task, you might realize that conservation of momentum and energy imply that we can simply add the four-momenta of the final-state decay products of each top quark/antiquark to obtain its four-momentum. This is true, but there are two wrinkles that prevent us from doing this in practice:\n",
    "1. The neutrinos are _completely invisible_ to most particle detectors! This means that we don't measure their four-momenta at all. We do get something of a hint, in the form of **missing transverse momentum**, the overall momentum imbalance in the transverse plane (total momentum in this plane _should_ sum to zero, but with neutrinos present, the imbalance can be quite large). However, this is essentially 2 constraints on our 6 missing degrees of freedom (technically 8, but the masses of neutrinos are so small that zero is a perfectly good approximation).\n",
    "2. The jets formed by $b$ and $\\bar{b}$ quarks are indistinguishable, and are in fact difficult to distinguish from jets formed by other quark types. So, we have 2 (or more) jets, but we don't know which one formed from the $b$ and $\\bar{b}$. This is more generally known as the problem of _jet-parton assignment_, and occurs in a wide variety of particle physics analyses (it's a HUGE combinatorial problem in the fully hadronic $t \\bar{t}$ decay channel, for instance).\n",
    "\n",
    "Of these, the first is by far the larger problem, as it means there is some inherent _ambiguity_ in our task. That is, there are potentially several possible $t$ and $\\bar{t}$ momenta that could yield the same final-state observables. The best we can hope to do is find a method of making a highly educated guess! Luckily, Deep Neural Networks excel in learning how to make good guesses in tasks with this type of ambiguity.\n",
    "\n",
    "### Our Approach: a PyTorch DNN\n",
    "\n",
    "You'll get more details as we go, but to give you an idea of our overall approach to solving this problem, we will:\n",
    "- Organize a set of physics objects (four-momentum and other information associated with a particle, jet, or event-level quantity) into a format suitable for input to a DNN.\n",
    "- Construct a DNN that will accept our inputs and output 8 quantities, to be considered the four-momenta of the top quark and antiquark.\n",
    "- Train the DNN on simulated dileptonic top quark-antiquark decays, from the public  [Collide-1m](https://huggingface.co/datasets/fastmachinelearning/collide-1m) dataset.\n",
    "- Assess how well the trained model performs.\n",
    "\n",
    "To get started, let's import the packages we'll need."
   ]
  },
  {
   "cell_type": "code",
   "execution_count": 1,
   "id": "c7ebafb6-9095-4380-a736-8a9ac2333d3e",
   "metadata": {},
   "outputs": [],
   "source": [
    "import os\n",
    "# import pickle\n",
    "from itertools import cycle\n",
    "import numpy as np\n",
    "import vector\n",
    "import torch\n",
    "from matplotlib import pyplot as plt"
   ]
  },
  {
   "cell_type": "markdown",
   "id": "da8a8a9f-7bfa-4f11-98ea-fe81dc9c8787",
   "metadata": {},
   "source": [
    "Now, we'll create a few global variables that we'll reference throughout the entire process. You should recognize most of these from previous discussions of general machine learning topics. The `device` and `model_params` might, however, be new. The `device` global variable is simply set to the PyTorch identifier for the device where we'll be training. If a GPU is available, we'll want to use that, and fall back to CPU if not. The `model_params` dictionary contains parameters that will configure the size (and dropout rate) of our DNN. We'll pass these parameters to the constructor of our PyTorch model class (it'll make more sense when you see that section)."
   ]
  },
  {
   "cell_type": "code",
   "execution_count": 2,
   "id": "d0536868-996d-4246-8b4c-4c210e0cb7cd",
   "metadata": {},
   "outputs": [],
   "source": [
    "save_folder = \"/depot/cms/users/colberte/ml-learning/PyTorch/SavedModels\"\n",
    "os.makedirs(save_folder, exist_ok=True)\n",
    "\n",
    "batch_size = 2048\n",
    "valid_batch_size = 16384\n",
    "epochs = 60\n",
    "learning_rate = 1.0e-4\n",
    "grad_clip_value = 80.0"
   ]
  },
  {
   "cell_type": "code",
   "execution_count": 3,
   "id": "171f5fc6-b367-4723-8f75-691c4906e73c",
   "metadata": {},
   "outputs": [
    {
     "name": "stdout",
     "output_type": "stream",
     "text": [
      "cuda:0\n"
     ]
    }
   ],
   "source": [
    "device = torch.device(\"cuda:0\" if torch.cuda.is_available() else \"cpu\")\n",
    "print(device)"
   ]
  },
  {
   "cell_type": "code",
   "execution_count": 4,
   "id": "cffe6c19-a67e-47b1-a514-5bdedaa957fb",
   "metadata": {},
   "outputs": [],
   "source": [
    "model_params = {\n",
    "    \"d_input\": 52,\n",
    "    \"n_layers\": 4,\n",
    "    \"d_layers\": 192,\n",
    "    \"d_output\": 8,\n",
    "    \"dropout\": 0.1,\n",
    "}"
   ]
  },
  {
   "cell_type": "markdown",
   "id": "c926214e-5373-4c26-bc86-eb11551a7d65",
   "metadata": {},
   "source": [
    "### Setting up Datasets\n",
    "\n",
    "Now it's time to load in our datasets. They've been prepared as PyTorch `TensorDataset`s, so all we need to do is load them from files and prepare them to be served in batches to our model. Importantly, you should create a `data` folder (alongside this notebook) and place the dataset files there (you could also place them wherever you want and alter the paths in the next cell, whatever your preference).\n",
    "\n",
    "Notice that after loading the datasets, we pass them into PyTorch `Dataloader`s. These objects contain logic to efficiently serve us small batches of the dataset, potentially shuffling it after each full iteration. We also pass some arguments to help speed up the transfer of data to a GPU device, if one exists. For more info about datasets and dataloaders in PyTorch, check out [this tutorial](https://docs.pytorch.org/tutorials/beginner/basics/data_tutorial.html).\n",
    "\n",
    "Finally, we'll be using the validation dataset to periodically check that our model is still training well. This means that we'll be iterating through it a little slower, and we want to easily start over whenever we happen to hit the end. The `itertools` library (a Python built-in) provides the `cycle` function, which returns an iterator that handles that logic for us.\n",
    "\n",
    "The datasets each contain 5 PyTorch tensors:\n",
    "- **Jets**: For each jet in an event, its four-momentum and a _b-tagging score_ are included. The b-tagging score represents the likelihood that the jet originated from a $b$ quark. There are potentially several jets per event, so the tensor's shape is $[N_{\\text{events}} \\times N_{\\text{jets}} \\times 5]$. Note that $N_{\\text{jets}}$ might be different per-event. How might this be handled?\n",
    "- **Leptons**: Because we know (or more precisely, hypothesize) that the top quark-antiquark pair decayed via the dileptonic channel, we can always find a _lepton-antilepton pair_ that we take to be part of the final state. We package these together, including their four-momenta and electric charge. Thus, this tensor's shape is $[N_{\\text{events}} \\times 2 \\times 5]$.\n",
    "- **MET**: This is simply the 2-dimensional missing transverse momentum vector for each event. It has shape $[N_{\\text{events}} \\times 1 \\times 2]$, to match the number of dimensions of the other tensors.\n",
    "- **Padding Mask**: We don't use this tensor at all in this tutorial! What do you think it represents?\n",
    "- **Targets**: The four-momenta of the top quark and antiquark, in that order. This tensor has shape $[N_{\\text{events}} \\times 2 \\times 4]$.\n",
    "\n",
    "In these datasets, four-momenta are represented simply as $[p_x, p_y, p_z, E]$. This is **not** the case for the Collide datasets in general, which provide the quantities $[p_T, \\eta, \\phi, m]$. I've transformed the coordinates to the more straighforward system for us. In case you're curious, the coordinate $\\eta$ refers to [pseudorapidity](https://en.wikipedia.org/wiki/Pseudorapidity), a coordinate, related to $\\theta$, commonly used in collider physics due to the shape of the detectors.\n",
    "\n",
    "#### Exercise 1\n",
    "Take a moment to look at the datasets before creating the dataloaders. Before you move on, make sure you can answer the questions: how many jets are included for each event? What happens if an event has fewer jets than this?\n",
    "\n",
    "You can retrieve the tensors from a `TensorDataset` by simply indexing into it like you would a Python list. Additionally, you may find the `torch.Tensor.size()` function useful."
   ]
  },
  {
   "cell_type": "code",
   "execution_count": 5,
   "id": "200738cc-07d9-4f40-899f-7e22b113e184",
   "metadata": {},
   "outputs": [],
   "source": [
    "train_dataset = torch.load(\"data/ttbar_dilepton_collide_train.pt\", weights_only=False)\n",
    "valid_dataset = torch.load(\"data/ttbar_dilepton_collide_valid.pt\", weights_only=False)"
   ]
  },
  {
   "cell_type": "code",
   "execution_count": 6,
   "id": "8137d5fa-8e7f-4f73-9c75-f5dcb214763b",
   "metadata": {},
   "outputs": [],
   "source": [
    "# Your code here!"
   ]
  },
  {
   "cell_type": "code",
   "execution_count": 7,
   "id": "d91925f0-8d03-4fb1-9672-3d38b571abd1",
   "metadata": {},
   "outputs": [],
   "source": [
    "if torch.cuda.is_available():\n",
    "    train_dataloader = torch.utils.data.DataLoader(train_dataset, batch_size=batch_size, shuffle=True, num_workers=1, pin_memory=True, drop_last=True)\n",
    "    valid_dataloader = torch.utils.data.DataLoader(valid_dataset, batch_size=valid_batch_size, shuffle=True, num_workers=1, pin_memory=True, drop_last=True)\n",
    "else:\n",
    "    train_dataloader = torch.utils.data.DataLoader(train_dataset, batch_size=batch_size, shuffle=True, drop_last=True)\n",
    "    valid_dataloader = torch.utils.data.DataLoader(valid_dataset, batch_size=valid_batch_size, shuffle=True, drop_last=True)"
   ]
  },
  {
   "cell_type": "code",
   "execution_count": 8,
   "id": "f074867d-cefe-42da-8ff6-0e361c59e8ca",
   "metadata": {},
   "outputs": [],
   "source": [
    "valid_dataloader_iterator = cycle(valid_dataloader)"
   ]
  },
  {
   "cell_type": "markdown",
   "id": "08826c54-98a3-4f50-b051-384361968330",
   "metadata": {},
   "source": [
    "### Defining the Model\n",
    "\n",
    "Now, it's time to define the _architecture_ of our model. We'll use a straightforward _Multi-Layer Perceptron_ (MLP), also known as a fully-connected neural network. This is the simplest, and most universal, type of neural network.\n",
    "\n",
    "In PyTorch, we define model architectures by writing classes that inherit from the `torch.nn.Module` class (if you don't know what [class inheritance](https://en.wikipedia.org/wiki/Inheritance_(object-oriented_programming)) is in programming, the details of this section might be a little opaque, but the essence of what we're doing should still be clear). In order to subclass `Module`, we have to define a constructor (`__init__`) that calls the base constructor (the first line in ours, `super().__init__()`, does this), and a `forward` method, which defines how the model computes its outputs from its inputs. As an important note, you should usually **NEVER** actually call the `forward` method - you'll notice we never do it here! Instead, you'll directly _call an instance of the model_. PyTorch does some extra behind-the-scenes work before calling our `forward` that essentially allows training to function!\n",
    "\n",
    "You'll see in the implementation below, that we define the class, and we use a `torch.nn.Sequential` module to stack our layers one after another.\n",
    "\n",
    "#### Exercise 2\n",
    "Our class is missing a key ingredient: actual layers! Build up the neural network with `torch.nn.Linear` layers and `torch.nn.ReLU` activation functions. Simply append them to the `layers` list, and they'll be inorporated into the sequential stack."
   ]
  },
  {
   "cell_type": "code",
   "execution_count": 9,
   "id": "fe8fe39f-84ab-446d-858c-704b8ca2b156",
   "metadata": {},
   "outputs": [],
   "source": [
    "class MLPModel(torch.nn.Module):\n",
    "    def __init__(self, d_input, n_layers, d_layers, d_output, dropout=0.0):\n",
    "        super().__init__() # IMPORTANT: This allows the `torch.nn.Module` to initialize and prepare to register our model blocks\n",
    "\n",
    "        # This builds up the layers we want in our network\n",
    "        layers = [torch.nn.Linear(d_input, d_layers), torch.nn.ReLU()]\n",
    "        for idx in range(n_layers-1):\n",
    "            layers.append(torch.nn.Linear(d_layers, d_layers))\n",
    "            layers.append(torch.nn.ReLU())\n",
    "            if (dropout > 0.0):\n",
    "                layers.append(torch.nn.Dropout(dropout))\n",
    "        layers.append(torch.nn.Linear(d_layers, d_output))\n",
    "\n",
    "        self.stack = torch.nn.Sequential(*layers) # Registers our layers as a single feedforward block\n",
    "\n",
    "    def forward(self, inputs):\n",
    "        return self.stack(inputs)"
   ]
  },
  {
   "cell_type": "markdown",
   "id": "98a2aa82-4751-4f01-94a1-e3c7c69260c1",
   "metadata": {},
   "source": [
    "Now, we can create an instance of our class - this is our actual model! Note that we use the `model_params` dict we defined earlier. Defining structures like that helps keep all our settings in one place, and makes it easier to log the different configurations we try.\n",
    "\n",
    "We can also examine the number of trainable parameters our model has. This is a key indicator of the overall size and complexity of our model."
   ]
  },
  {
   "cell_type": "code",
   "execution_count": 10,
   "id": "0f59aad0-ef07-4d9c-ac30-4889251c1a06",
   "metadata": {},
   "outputs": [],
   "source": [
    "model = MLPModel(**model_params)\n",
    "model = model.to(device)"
   ]
  },
  {
   "cell_type": "code",
   "execution_count": 11,
   "id": "5565f81c-4190-498f-bdf5-0098227f6add",
   "metadata": {},
   "outputs": [
    {
     "name": "stdout",
     "output_type": "stream",
     "text": [
      "Trainable parameters: 122888\n"
     ]
    }
   ],
   "source": [
    "print(\"Trainable parameters:\", sum(p.numel() for p in model.parameters() if p.requires_grad))"
   ]
  },
  {
   "cell_type": "markdown",
   "id": "aeb36871-ee8c-4158-8e6a-16af11c43a02",
   "metadata": {},
   "source": [
    "### Setting up Training\n",
    "\n",
    "Here we define a **loss function** and **optimization algorithm** that we'll use to train our model. A wide variety of these are implemented in the PyTorch library; these are a couple of my favorites. Feel free to explore different options here, you might be surprised how strongly these choices can affect your training!"
   ]
  },
  {
   "cell_type": "code",
   "execution_count": 12,
   "id": "7dfa9a1b-a51d-427e-9b22-9de24dc9808a",
   "metadata": {},
   "outputs": [],
   "source": [
    "optimizer = torch.optim.Adam(model.parameters(), lr=learning_rate, weight_decay=0.0)"
   ]
  },
  {
   "cell_type": "code",
   "execution_count": 13,
   "id": "9da2cf51-f833-4a5b-a39d-ce5d21066dbc",
   "metadata": {},
   "outputs": [],
   "source": [
    "loss_function = torch.nn.L1Loss(reduction=\"mean\")"
   ]
  },
  {
   "cell_type": "markdown",
   "id": "d31bf098-62c2-4c7d-9045-5311f1d8877d",
   "metadata": {},
   "source": [
    "### Training Montage!\n",
    "\n",
    "Here's the fun part: training!\n",
    "\n",
    "In PyTorch, training loops are implemented _manually_. While this seems like extra complication, it actually gives us a lot of flexibility. The basic steps in a training loop are, for each batch of training data:\n",
    "1. Zero out the model's gradients, so they don't erroneously accumulate (this is the call to `optimizer.zero_grad()`).\n",
    "2. Pass the data batch through the model and obtain outputs.\n",
    "3. Calculate loss between the outputs and targets.\n",
    "4. Run `loss.backward()` to calculate the derivatives of the loss with respect to the model's trainable parameters, and `optimizer.step()` to use those derivatives to update the parameters, attempting to lower (and eventually minimize) the loss. These two calls implement _backpropagation_ via automatic differentiation and some form of _gradient descent_.\n",
    "\n",
    "You'll also notice that we run multiple _epochs_, or passes over the entire training dataset. It can sometimes take many epochs for a model to fully train! We also pass some of our validation data through the model after each epoch, and record the loss. This will help us see if our model is overfitting.\n",
    "\n",
    "Finally, we save our trained model using [TorchScript](https://docs.pytorch.org/docs/stable/jit.html), so we can spin it back up and run it later.\n",
    "\n",
    "#### Exercise 3\n",
    "Our MLP model expects a _flat vector of inputs_ and outputs a _flat vector_ for each event. But, our data comes in several tensors, each with a complex shape. You'll need to flatten them out and concatenate the inputs into one large (52-dimensional) vector per event, and flatten the targets as well.\n",
    "\n",
    "#### Exercise 3.5 (Optional)\n",
    "You'll notice that, at the end of each epoch of training, we pass a batch of validation data through our model, and compute the loss, but we don't do much with that. We could, however, implement a variant of _early stopping_ where we keep track of the lowest validation loss so far, and save a copy of our model each time it reaches a lower value. That way, we'll always save the model with the best validation performance (at least, theoretically)! Try adding that to the block at the end of the training loop."
   ]
  },
  {
   "cell_type": "code",
   "execution_count": 14,
   "id": "dc78df8c-ee32-4786-8919-a2f25cc05a11",
   "metadata": {},
   "outputs": [],
   "source": [
    "train_loss = []\n",
    "valid_loss = []\n",
    "# min_valid_loss = float(\"inf\")\n",
    "# min_loss_epoch = 0"
   ]
  },
  {
   "cell_type": "code",
   "execution_count": 15,
   "id": "d9689e1c-b611-4d3a-96e8-e112bba2fa61",
   "metadata": {
    "scrolled": true
   },
   "outputs": [
    {
     "name": "stdout",
     "output_type": "stream",
     "text": [
      "Starting epoch 1.\n",
      "Starting epoch 2.\n",
      "Starting epoch 3.\n",
      "Starting epoch 4.\n",
      "Starting epoch 5.\n",
      "Starting epoch 6.\n",
      "Starting epoch 7.\n",
      "Starting epoch 8.\n",
      "Starting epoch 9.\n",
      "Starting epoch 10.\n",
      "Starting epoch 11.\n",
      "Starting epoch 12.\n",
      "Starting epoch 13.\n",
      "Starting epoch 14.\n",
      "Starting epoch 15.\n",
      "Starting epoch 16.\n",
      "Starting epoch 17.\n",
      "Starting epoch 18.\n",
      "Starting epoch 19.\n",
      "Starting epoch 20.\n",
      "Starting epoch 21.\n",
      "Starting epoch 22.\n",
      "Starting epoch 23.\n",
      "Starting epoch 24.\n",
      "Starting epoch 25.\n",
      "Starting epoch 26.\n",
      "Starting epoch 27.\n",
      "Starting epoch 28.\n",
      "Starting epoch 29.\n",
      "Starting epoch 30.\n",
      "Starting epoch 31.\n",
      "Starting epoch 32.\n",
      "Starting epoch 33.\n",
      "Starting epoch 34.\n",
      "Starting epoch 35.\n",
      "Starting epoch 36.\n",
      "Starting epoch 37.\n",
      "Starting epoch 38.\n",
      "Starting epoch 39.\n",
      "Starting epoch 40.\n",
      "Starting epoch 41.\n",
      "Starting epoch 42.\n",
      "Starting epoch 43.\n",
      "Starting epoch 44.\n",
      "Starting epoch 45.\n",
      "Starting epoch 46.\n",
      "Starting epoch 47.\n",
      "Starting epoch 48.\n",
      "Starting epoch 49.\n",
      "Starting epoch 50.\n",
      "Starting epoch 51.\n",
      "Starting epoch 52.\n",
      "Starting epoch 53.\n",
      "Starting epoch 54.\n",
      "Starting epoch 55.\n",
      "Starting epoch 56.\n",
      "Starting epoch 57.\n",
      "Starting epoch 58.\n",
      "Starting epoch 59.\n",
      "Starting epoch 60.\n",
      "Finished.\n"
     ]
    }
   ],
   "source": [
    "for epoch in range(1, epochs+1):\n",
    "    print(f\"Starting epoch {epoch}.\")\n",
    "    model.train()\n",
    "    for batch, (jets, leptons, met, pad_mask, target) in enumerate(train_dataloader):\n",
    "        optimizer.zero_grad()\n",
    "\n",
    "        jets = jets.reshape([-1, 40])\n",
    "        leptons = leptons.reshape([-1, 10])\n",
    "        met = met.reshape([-1, 2])\n",
    "        #pad_mask = pad_mask.to(device)\n",
    "        inputs = torch.concat([jets, leptons, met], dim=-1).to(device)\n",
    "        \n",
    "        target = target.reshape([-1, 8]).to(device)\n",
    "\n",
    "        pred = model(inputs)\n",
    "\n",
    "        loss = loss_function(pred, target)\n",
    "\n",
    "        loss.backward()\n",
    "        torch.nn.utils.clip_grad_norm_(model.parameters(), grad_clip_value) # gradient clipping\n",
    "        optimizer.step()\n",
    "\n",
    "        # if (batch % 10 == 0):\n",
    "        train_loss_number = loss.detach().to(\"cpu\").item()\n",
    "        train_loss.append(train_loss_number)\n",
    "\n",
    "    model.eval()\n",
    "    with torch.no_grad():\n",
    "        jets_valid, leptons_valid, met_valid, pad_mask_valid, target_valid = next(valid_dataloader_iterator)\n",
    "        jets_valid = jets_valid.reshape([-1, 40])\n",
    "        leptons_valid = leptons_valid.reshape([-1, 10])\n",
    "        met_valid = met_valid.reshape([-1, 2])\n",
    "        #pad_mask_valid = pad_mask_valid.to(device)\n",
    "        inputs_valid = torch.concat([jets_valid, leptons_valid, met_valid], dim=-1).to(device)\n",
    "        \n",
    "        target_valid = target_valid.reshape([-1, 8]).to(device)\n",
    "\n",
    "        pred_valid = model(inputs_valid)\n",
    "\n",
    "        loss_valid = loss_function(pred_valid, target_valid)\n",
    "\n",
    "        valid_loss_number = loss_valid.detach().to('cpu').item()\n",
    "        valid_loss.append(valid_loss_number)\n",
    "\n",
    "        # if (valid_loss_number <= min_valid_loss):\n",
    "        #     min_valid_loss = valid_loss_number\n",
    "        #     min_loss_epoch = epoch\n",
    "        #     # Save model with lowest validation loss\n",
    "        #     torch.jit.script(model).save(save_folder+\"/best_mlp.pt\")\n",
    "\n",
    "print(\"Finished.\")"
   ]
  },
  {
   "cell_type": "code",
   "execution_count": 16,
   "id": "6d7463f7-7d62-4d2a-bb02-d50c3b965f6b",
   "metadata": {},
   "outputs": [],
   "source": [
    "torch.jit.script(model).save(save_folder+\"/final_mlp.pt\")"
   ]
  },
  {
   "cell_type": "markdown",
   "id": "3c8f9de5-291f-40b7-96d8-d7a72b5575de",
   "metadata": {},
   "source": [
    "### Evaluating the Results\n",
    "\n",
    "We can look at how training proceeded by plotting the loss."
   ]
  },
  {
   "cell_type": "code",
   "execution_count": 17,
   "id": "23b3caff-2f5b-4229-ac48-01dcb0b902ea",
   "metadata": {},
   "outputs": [
    {
     "data": {
      "image/png": "[encoded data removed]",
      "text/plain": [
       "<Figure size 640x480 with 1 Axes>"
      ]
     },
     "metadata": {},
     "output_type": "display_data"
    }
   ],
   "source": [
    "epochs_list = np.arange(1, epochs+1)\n",
    "steps_list = np.linspace(0, epochs, len(train_loss))\n",
    "\n",
    "fig, ax = plt.subplots()\n",
    "\n",
    "ax.set_xlim(0, epochs)\n",
    "#ax.set_ylim(bottom=0)\n",
    "\n",
    "ax.plot(steps_list, train_loss, label=\"Training\")\n",
    "ax.plot(epochs_list, valid_loss, label=\"Validation\")\n",
    "\n",
    "ax.legend()\n",
    "\n",
    "plt.show()\n",
    "plt.close()"
   ]
  },
  {
   "cell_type": "markdown",
   "id": "cb2c0699-fa89-4c87-bcae-04acc0be0c4c",
   "metadata": {},
   "source": [
    "That's some pretty good training!\n",
    "\n",
    "#### Exercise 4\n",
    "How might we get a visual glimpse into how well our model performs? Try to draw some plots that show how well (or badly) the model reconstructed its targets."
   ]
  },
  {
   "cell_type": "code",
   "execution_count": null,
   "id": "e450d2ef-2796-4e95-8c7a-2b60fc7295f4",
   "metadata": {},
   "outputs": [],
   "source": []
  },
  {
   "cell_type": "markdown",
   "id": "d6879f9f-4ae6-4721-a6a4-c4ce066f9df9",
   "metadata": {},
   "source": [
    "### Wrapping Up\n",
    "\n",
    "Hope this was fun, y'all should play with it and explore!\n",
    "\n",
    "Some questions and next steps to think about:\n",
    "1. We used raw four-momenta, along with electric charges and tagging scores, as inputs to our model. These different features have vastly different orders of magnitude and distributions. Do you think this is good or bad for a model like this one? If it's bad, what might we do about it?"
   ]
  }
 ],
 "metadata": {
  "kernelspec": {
   "display_name": "Python [conda env:bumblebee]",
   "language": "python",
   "name": "conda-env-bumblebee-py"
  },
  "language_info": {
   "codemirror_mode": {
    "name": "ipython",
    "version": 3
   },
   "file_extension": ".py",
   "mimetype": "text/x-python",
   "name": "python",
   "nbconvert_exporter": "python",
   "pygments_lexer": "ipython3",
   "version": "3.12.9"
  }
 },
 "nbformat": 4,
 "nbformat_minor": 5
}
